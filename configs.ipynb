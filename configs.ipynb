{
 "cells": [
  {
   "cell_type": "code",
   "execution_count": null,
   "metadata": {},
   "outputs": [],
   "source": [
    "#!/user/bin/env python\n",
    "#--------------------\n",
    "#@Time  : 2020/4/12 15:57\n",
    "#@Author: ZHANG YINGJIE\n",
    "#@File  : configs.py\n",
    "\n",
    "class ConfigFactory:\n",
    "\n",
    "    def __init__(self, name='iccnn'):\n",
    "        self.name = name\n",
    "        self.batch_size = 1\n",
    "        self.lr = 1e-4\n",
    "        self.momentum = 0.9\n",
    "        self.lossterm_l = 1e-2\n",
    "        self.lossterm_h = 100\n",
    "        self.total_iters = 200000\n",
    "        self.max_ckpt_keep = 2000\n",
    "        self.ckpt_router = 'E:/PythonProjects/ic-CNN/ckpts/iccnn/'\n",
    "        self.log_router = 'E:/PythonProjects/ic-CNN/logs/iccnn/'\n",
    "\n",
    "    def display_configs(self):\n",
    "        msg = '''\n",
    "        ------------ info of %s model ------------\n",
    "        batch size              : %s\n",
    "        learning rate           : %f\n",
    "        momentum                : %f\n",
    "        iterator num            : %s\n",
    "        max ckpt keep           : %s\n",
    "        ckpt router             : %s\n",
    "        log router              : %s\n",
    "        ------------------------------------------\n",
    "        '''%(self.name, self.batch_size, self.lr, self.momentum,self.total_iters,\n",
    "          self.max_ckpt_keep, self.ckpt_router, self.log_router)\n",
    "        print(msg)\n",
    "        return msg\n",
    "\n",
    "\n"
   ]
  }
 ],
 "metadata": {
  "kernelspec": {
   "display_name": "Python 3",
   "language": "python",
   "name": "python3"
  },
  "language_info": {
   "codemirror_mode": {
    "name": "ipython",
    "version": 3
   },
   "file_extension": ".py",
   "mimetype": "text/x-python",
   "name": "python",
   "nbconvert_exporter": "python",
   "pygments_lexer": "ipython3",
   "version": "3.6.6"
  }
 },
 "nbformat": 4,
 "nbformat_minor": 4
}
